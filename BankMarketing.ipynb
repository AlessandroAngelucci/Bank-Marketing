{
  "nbformat": 4,
  "nbformat_minor": 0,
  "metadata": {
    "colab": {
      "provenance": [],
      "collapsed_sections": [
        "5b1k9Z1FYCMx",
        "9y-F0uCiP26l",
        "zVbJlvK9Vyvs"
      ]
    },
    "kernelspec": {
      "name": "python3",
      "display_name": "Python 3"
    },
    "language_info": {
      "name": "python"
    }
  },
  "cells": [
    {
      "cell_type": "markdown",
      "source": [
        "# Predicting bank term deposits: Random Forest vs. Neural Networks\n",
        "This Python notebook investigates the factors influencing bank term deposit subscriptions using data from a banking institution's direct marketing campaign. Exploiting Random Forest and Neural Network models, the aim is to:\n",
        "\n",
        "\n",
        "1. Predict the probability of client subscription based on their demographic information, contact details, and previous campaign interactions.\n",
        "2. Compare model performance using confusion matrices.\n",
        "3. Uncover the key drivers which influence the subscription decisions for each model.\n",
        "\n",
        "This analysis will reveal whether the \"black-box\" nature of these algorithms leads to similar conclusions about which factors most impact term deposit subscriptions.\n",
        "\n",
        "Feature descriptions:\n",
        "1. age: Client age\n",
        "2. job: Client employment\n",
        "3. marital: Client marital status\n",
        "4. education: Client education level\n",
        "5. default: Whether the client has credit in default\n",
        "6. balance: Client average yearly balance in euros\n",
        "7. housing: Whether the client has a housing loan\n",
        "8. loan: Whether the client has a personal loan\n",
        "9. contact: Client contact type\n",
        "10. day: Last contact day of the month\n",
        "11. month: Last contact month of the year\n",
        "12. duration: Last contact duration in seconds\n",
        "13. campaign: Number of contacts performed during this campaign and for this client\n",
        "14. pdays: Number of days since the client was last contacted from a previous campaign\n",
        "15. previous: Number of contacts performed before this campaign and for this client\n",
        "16. poutcome: Outcome of the previous marketing campaign\n",
        "17. y: Client term deposit subscription"
      ],
      "metadata": {
        "id": "rwg1azUuxcLl"
      }
    },
    {
      "cell_type": "markdown",
      "source": [
        "### Setup"
      ],
      "metadata": {
        "id": "J9akHMoFLchx"
      }
    },
    {
      "cell_type": "markdown",
      "source": [
        "Import the necessary libraries and modules for the project:\n",
        "\n",
        "* pandas as pd: Used for data manipulation and analysis.\n",
        "* MinMaxScaler from sklearn.preprocessing: Scales features to a given range, often between 0 and 1.\n",
        "* train_test_split from sklearn.model_selection: Splits the dataset into training and testing sets.\n",
        "* GridSearchCV from sklearn.model_selection: Performs an exhaustive search over specified parameter values for an estimator.\n",
        "* RandomForestClassifier from sklearn.ensemble: A machine learning algorithm used for classification tasks.\n",
        "* accuracy_score, classification_report, confusion_matrix, ConfusionMatrixDisplay from sklearn.metrics: Used for evaluating the performance of the classification models.\n",
        "* Sequential, Dense from tensorflow.keras.models and tensorflow.keras.layers: Used to create and define layers in a neural network.\n",
        "* matplotlib.pyplot as plt: A plotting library used for visualizing data and results.\n",
        "These imports provide the tools needed to preprocess the data, build and evaluate the machine learning models (Random Forest and Neural Networks), and visualize the results."
      ],
      "metadata": {
        "id": "wsWnooub0H9D"
      }
    },
    {
      "cell_type": "code",
      "source": [
        "import pandas as pd\n",
        "from sklearn.preprocessing import MinMaxScaler\n",
        "from sklearn.model_selection import train_test_split\n",
        "from sklearn.model_selection import GridSearchCV\n",
        "from sklearn.ensemble import RandomForestClassifier\n",
        "from sklearn.metrics import accuracy_score, classification_report, confusion_matrix, ConfusionMatrixDisplay\n",
        "from tensorflow.keras.models import Sequential\n",
        "from tensorflow.keras.layers import Dense\n",
        "import matplotlib.pyplot as plt"
      ],
      "metadata": {
        "id": "7o8gA9yqwcXX"
      },
      "execution_count": 1,
      "outputs": []
    },
    {
      "cell_type": "markdown",
      "source": [
        "Import dataset"
      ],
      "metadata": {
        "id": "ZsAgpmLV0orq"
      }
    },
    {
      "cell_type": "code",
      "source": [
        "df = pd.read_csv('Dataset.csv')"
      ],
      "metadata": {
        "collapsed": true,
        "id": "PFE5BF6nScnn"
      },
      "execution_count": 2,
      "outputs": []
    },
    {
      "cell_type": "markdown",
      "source": [
        "Feature encoding, mapping, and ordering:\n",
        "\n",
        "* One-hot encoding: The categorical variables 'job', 'marital', 'education', 'contact', and 'poutcome' are one-hot encoded using the pd.get_dummies function. This transformation converts categorical variables into binary vectors, where each category becomes a separate feature.\n",
        "* Binary encoding: The binary variables 'default', 'housing', 'loan', and the target variable 'y' are encoded as binary values, where 'yes' is mapped to 1 and 'no' is mapped to 0. This step is done using the applymap function along with a lambda function.\n",
        "* Month mapping: The categorical variable 'month' is numerically mapped to its corresponding integer values using a predefined dictionary month_mapping. This mapping converts month names to numerical values for consistency and ease of processing.\n",
        "* Consistency conversion: The boolean values 'True' and 'False' are converted to 1 and 0, respectively, for consistency throughout the dataset.\n",
        "* Reordering features: The features are reordered so that the target variable 'y' is moved to the last column of the DataFrame. This step is done to ensure that the target variable is the last column, which is a common convention in machine learning tasks."
      ],
      "metadata": {
        "id": "xag5JAoWW07U"
      }
    },
    {
      "cell_type": "code",
      "source": [
        "df = pd.get_dummies(df, columns = ['job', 'marital', 'education', 'contact', 'poutcome'])  # One-hot encode features\n",
        "df[['default', 'housing', 'loan', 'y']] = df[['default', 'housing', 'loan', 'y']].applymap(lambda x: 1 if x == 'yes' else 0)  # Binary encode features\n",
        "\n",
        "month_mapping = {'jan': 1, 'feb': 2, 'mar': 3, 'apr': 4, 'may': 5, 'jun': 6, 'jul': 7, 'aug': 8, 'sep': 9, 'oct': 10, 'nov': 11, 'dec': 12}\n",
        "df['month'] = df['month'].map(month_mapping)  # Numerically map feature\n",
        "\n",
        "df = df.replace(False, 0)  # Convert 'False' to 0 for consistency\n",
        "df = df.replace(True, 1)  # Convert 'True' to 1 for consistency\n",
        "\n",
        "df = df[[col for col in df.columns if col != 'y']+ ['y']]  # Reorder features so that y is last"
      ],
      "metadata": {
        "id": "3iEvQOFb1Xuj"
      },
      "execution_count": 3,
      "outputs": []
    },
    {
      "cell_type": "markdown",
      "source": [
        "Feature standardisation:\n",
        "\n",
        "* Standardization: Apply the MinMaxScaler function to the selected numeric columns using the fit_transform method. This scales each numeric feature to a range between 0 and 1, ensuring that all features contribute equally to the model fitting process and preventing any single feature from dominating due to its scale."
      ],
      "metadata": {
        "id": "Is5mzTqaMX7x"
      }
    },
    {
      "cell_type": "code",
      "source": [
        "numeric_columns = ['age', 'balance', 'day', 'month', 'duration', 'campaign', 'pdays', 'previous']  # Numeric features to be standardised\n",
        "df[numeric_columns] = MinMaxScaler().fit_transform(df[numeric_columns])  # Standardise features between 0 and 1"
      ],
      "metadata": {
        "id": "2DzmEKIDMVmM"
      },
      "execution_count": 4,
      "outputs": []
    },
    {
      "cell_type": "markdown",
      "source": [
        "Display cleaned dataset"
      ],
      "metadata": {
        "id": "rdE2waAgQS8V"
      }
    },
    {
      "cell_type": "code",
      "source": [
        "df"
      ],
      "metadata": {
        "colab": {
          "base_uri": "https://localhost:8080/",
          "height": 444
        },
        "collapsed": true,
        "id": "fxmHpZOmQSTE",
        "outputId": "773d6043-7ed7-41a7-f1d0-18c259cd8f67"
      },
      "execution_count": 5,
      "outputs": [
        {
          "output_type": "execute_result",
          "data": {
            "text/plain": [
              "            age  default   balance  housing  loan       day     month  \\\n",
              "0      0.519481        0  0.092259        1     0  0.133333  0.363636   \n",
              "1      0.337662        0  0.073067        1     0  0.133333  0.363636   \n",
              "2      0.194805        0  0.072822        1     1  0.133333  0.363636   \n",
              "3      0.376623        0  0.086476        1     0  0.133333  0.363636   \n",
              "4      0.194805        0  0.072812        0     0  0.133333  0.363636   \n",
              "...         ...      ...       ...      ...   ...       ...       ...   \n",
              "45206  0.428571        0  0.080293        0     0  0.533333  0.909091   \n",
              "45207  0.688312        0  0.088501        0     0  0.533333  0.909091   \n",
              "45208  0.701299        0  0.124689        0     0  0.533333  0.909091   \n",
              "45209  0.506494        0  0.078868        0     0  0.533333  0.909091   \n",
              "45210  0.246753        0  0.099777        0     0  0.533333  0.909091   \n",
              "\n",
              "       duration  campaign     pdays  ...  education_tertiary  \\\n",
              "0      0.053070  0.000000  0.000000  ...                   1   \n",
              "1      0.030704  0.000000  0.000000  ...                   0   \n",
              "2      0.015453  0.000000  0.000000  ...                   0   \n",
              "3      0.018707  0.000000  0.000000  ...                   0   \n",
              "4      0.040260  0.000000  0.000000  ...                   0   \n",
              "...         ...       ...       ...  ...                 ...   \n",
              "45206  0.198658  0.032258  0.000000  ...                   1   \n",
              "45207  0.092721  0.016129  0.000000  ...                   0   \n",
              "45208  0.229158  0.064516  0.212156  ...                   0   \n",
              "45209  0.103294  0.048387  0.000000  ...                   0   \n",
              "45210  0.073404  0.016129  0.216743  ...                   0   \n",
              "\n",
              "       education_unknown  contact_cellular  contact_telephone  \\\n",
              "0                      0                 0                  0   \n",
              "1                      0                 0                  0   \n",
              "2                      0                 0                  0   \n",
              "3                      1                 0                  0   \n",
              "4                      1                 0                  0   \n",
              "...                  ...               ...                ...   \n",
              "45206                  0                 1                  0   \n",
              "45207                  0                 1                  0   \n",
              "45208                  0                 1                  0   \n",
              "45209                  0                 0                  1   \n",
              "45210                  0                 1                  0   \n",
              "\n",
              "       contact_unknown  poutcome_failure  poutcome_other  poutcome_success  \\\n",
              "0                    1                 0               0                 0   \n",
              "1                    1                 0               0                 0   \n",
              "2                    1                 0               0                 0   \n",
              "3                    1                 0               0                 0   \n",
              "4                    1                 0               0                 0   \n",
              "...                ...               ...             ...               ...   \n",
              "45206                0                 0               0                 0   \n",
              "45207                0                 0               0                 0   \n",
              "45208                0                 0               0                 1   \n",
              "45209                0                 0               0                 0   \n",
              "45210                0                 0               1                 0   \n",
              "\n",
              "       poutcome_unknown  y  \n",
              "0                     1  0  \n",
              "1                     1  0  \n",
              "2                     1  0  \n",
              "3                     1  0  \n",
              "4                     1  0  \n",
              "...                 ... ..  \n",
              "45206                 1  1  \n",
              "45207                 1  1  \n",
              "45208                 0  1  \n",
              "45209                 1  0  \n",
              "45210                 0  0  \n",
              "\n",
              "[45211 rows x 38 columns]"
            ],
            "text/html": [
              "\n",
              "  <div id=\"df-886a3385-a699-4e31-a809-3c90c436ce28\" class=\"colab-df-container\">\n",
              "    <div>\n",
              "<style scoped>\n",
              "    .dataframe tbody tr th:only-of-type {\n",
              "        vertical-align: middle;\n",
              "    }\n",
              "\n",
              "    .dataframe tbody tr th {\n",
              "        vertical-align: top;\n",
              "    }\n",
              "\n",
              "    .dataframe thead th {\n",
              "        text-align: right;\n",
              "    }\n",
              "</style>\n",
              "<table border=\"1\" class=\"dataframe\">\n",
              "  <thead>\n",
              "    <tr style=\"text-align: right;\">\n",
              "      <th></th>\n",
              "      <th>age</th>\n",
              "      <th>default</th>\n",
              "      <th>balance</th>\n",
              "      <th>housing</th>\n",
              "      <th>loan</th>\n",
              "      <th>day</th>\n",
              "      <th>month</th>\n",
              "      <th>duration</th>\n",
              "      <th>campaign</th>\n",
              "      <th>pdays</th>\n",
              "      <th>...</th>\n",
              "      <th>education_tertiary</th>\n",
              "      <th>education_unknown</th>\n",
              "      <th>contact_cellular</th>\n",
              "      <th>contact_telephone</th>\n",
              "      <th>contact_unknown</th>\n",
              "      <th>poutcome_failure</th>\n",
              "      <th>poutcome_other</th>\n",
              "      <th>poutcome_success</th>\n",
              "      <th>poutcome_unknown</th>\n",
              "      <th>y</th>\n",
              "    </tr>\n",
              "  </thead>\n",
              "  <tbody>\n",
              "    <tr>\n",
              "      <th>0</th>\n",
              "      <td>0.519481</td>\n",
              "      <td>0</td>\n",
              "      <td>0.092259</td>\n",
              "      <td>1</td>\n",
              "      <td>0</td>\n",
              "      <td>0.133333</td>\n",
              "      <td>0.363636</td>\n",
              "      <td>0.053070</td>\n",
              "      <td>0.000000</td>\n",
              "      <td>0.000000</td>\n",
              "      <td>...</td>\n",
              "      <td>1</td>\n",
              "      <td>0</td>\n",
              "      <td>0</td>\n",
              "      <td>0</td>\n",
              "      <td>1</td>\n",
              "      <td>0</td>\n",
              "      <td>0</td>\n",
              "      <td>0</td>\n",
              "      <td>1</td>\n",
              "      <td>0</td>\n",
              "    </tr>\n",
              "    <tr>\n",
              "      <th>1</th>\n",
              "      <td>0.337662</td>\n",
              "      <td>0</td>\n",
              "      <td>0.073067</td>\n",
              "      <td>1</td>\n",
              "      <td>0</td>\n",
              "      <td>0.133333</td>\n",
              "      <td>0.363636</td>\n",
              "      <td>0.030704</td>\n",
              "      <td>0.000000</td>\n",
              "      <td>0.000000</td>\n",
              "      <td>...</td>\n",
              "      <td>0</td>\n",
              "      <td>0</td>\n",
              "      <td>0</td>\n",
              "      <td>0</td>\n",
              "      <td>1</td>\n",
              "      <td>0</td>\n",
              "      <td>0</td>\n",
              "      <td>0</td>\n",
              "      <td>1</td>\n",
              "      <td>0</td>\n",
              "    </tr>\n",
              "    <tr>\n",
              "      <th>2</th>\n",
              "      <td>0.194805</td>\n",
              "      <td>0</td>\n",
              "      <td>0.072822</td>\n",
              "      <td>1</td>\n",
              "      <td>1</td>\n",
              "      <td>0.133333</td>\n",
              "      <td>0.363636</td>\n",
              "      <td>0.015453</td>\n",
              "      <td>0.000000</td>\n",
              "      <td>0.000000</td>\n",
              "      <td>...</td>\n",
              "      <td>0</td>\n",
              "      <td>0</td>\n",
              "      <td>0</td>\n",
              "      <td>0</td>\n",
              "      <td>1</td>\n",
              "      <td>0</td>\n",
              "      <td>0</td>\n",
              "      <td>0</td>\n",
              "      <td>1</td>\n",
              "      <td>0</td>\n",
              "    </tr>\n",
              "    <tr>\n",
              "      <th>3</th>\n",
              "      <td>0.376623</td>\n",
              "      <td>0</td>\n",
              "      <td>0.086476</td>\n",
              "      <td>1</td>\n",
              "      <td>0</td>\n",
              "      <td>0.133333</td>\n",
              "      <td>0.363636</td>\n",
              "      <td>0.018707</td>\n",
              "      <td>0.000000</td>\n",
              "      <td>0.000000</td>\n",
              "      <td>...</td>\n",
              "      <td>0</td>\n",
              "      <td>1</td>\n",
              "      <td>0</td>\n",
              "      <td>0</td>\n",
              "      <td>1</td>\n",
              "      <td>0</td>\n",
              "      <td>0</td>\n",
              "      <td>0</td>\n",
              "      <td>1</td>\n",
              "      <td>0</td>\n",
              "    </tr>\n",
              "    <tr>\n",
              "      <th>4</th>\n",
              "      <td>0.194805</td>\n",
              "      <td>0</td>\n",
              "      <td>0.072812</td>\n",
              "      <td>0</td>\n",
              "      <td>0</td>\n",
              "      <td>0.133333</td>\n",
              "      <td>0.363636</td>\n",
              "      <td>0.040260</td>\n",
              "      <td>0.000000</td>\n",
              "      <td>0.000000</td>\n",
              "      <td>...</td>\n",
              "      <td>0</td>\n",
              "      <td>1</td>\n",
              "      <td>0</td>\n",
              "      <td>0</td>\n",
              "      <td>1</td>\n",
              "      <td>0</td>\n",
              "      <td>0</td>\n",
              "      <td>0</td>\n",
              "      <td>1</td>\n",
              "      <td>0</td>\n",
              "    </tr>\n",
              "    <tr>\n",
              "      <th>...</th>\n",
              "      <td>...</td>\n",
              "      <td>...</td>\n",
              "      <td>...</td>\n",
              "      <td>...</td>\n",
              "      <td>...</td>\n",
              "      <td>...</td>\n",
              "      <td>...</td>\n",
              "      <td>...</td>\n",
              "      <td>...</td>\n",
              "      <td>...</td>\n",
              "      <td>...</td>\n",
              "      <td>...</td>\n",
              "      <td>...</td>\n",
              "      <td>...</td>\n",
              "      <td>...</td>\n",
              "      <td>...</td>\n",
              "      <td>...</td>\n",
              "      <td>...</td>\n",
              "      <td>...</td>\n",
              "      <td>...</td>\n",
              "      <td>...</td>\n",
              "    </tr>\n",
              "    <tr>\n",
              "      <th>45206</th>\n",
              "      <td>0.428571</td>\n",
              "      <td>0</td>\n",
              "      <td>0.080293</td>\n",
              "      <td>0</td>\n",
              "      <td>0</td>\n",
              "      <td>0.533333</td>\n",
              "      <td>0.909091</td>\n",
              "      <td>0.198658</td>\n",
              "      <td>0.032258</td>\n",
              "      <td>0.000000</td>\n",
              "      <td>...</td>\n",
              "      <td>1</td>\n",
              "      <td>0</td>\n",
              "      <td>1</td>\n",
              "      <td>0</td>\n",
              "      <td>0</td>\n",
              "      <td>0</td>\n",
              "      <td>0</td>\n",
              "      <td>0</td>\n",
              "      <td>1</td>\n",
              "      <td>1</td>\n",
              "    </tr>\n",
              "    <tr>\n",
              "      <th>45207</th>\n",
              "      <td>0.688312</td>\n",
              "      <td>0</td>\n",
              "      <td>0.088501</td>\n",
              "      <td>0</td>\n",
              "      <td>0</td>\n",
              "      <td>0.533333</td>\n",
              "      <td>0.909091</td>\n",
              "      <td>0.092721</td>\n",
              "      <td>0.016129</td>\n",
              "      <td>0.000000</td>\n",
              "      <td>...</td>\n",
              "      <td>0</td>\n",
              "      <td>0</td>\n",
              "      <td>1</td>\n",
              "      <td>0</td>\n",
              "      <td>0</td>\n",
              "      <td>0</td>\n",
              "      <td>0</td>\n",
              "      <td>0</td>\n",
              "      <td>1</td>\n",
              "      <td>1</td>\n",
              "    </tr>\n",
              "    <tr>\n",
              "      <th>45208</th>\n",
              "      <td>0.701299</td>\n",
              "      <td>0</td>\n",
              "      <td>0.124689</td>\n",
              "      <td>0</td>\n",
              "      <td>0</td>\n",
              "      <td>0.533333</td>\n",
              "      <td>0.909091</td>\n",
              "      <td>0.229158</td>\n",
              "      <td>0.064516</td>\n",
              "      <td>0.212156</td>\n",
              "      <td>...</td>\n",
              "      <td>0</td>\n",
              "      <td>0</td>\n",
              "      <td>1</td>\n",
              "      <td>0</td>\n",
              "      <td>0</td>\n",
              "      <td>0</td>\n",
              "      <td>0</td>\n",
              "      <td>1</td>\n",
              "      <td>0</td>\n",
              "      <td>1</td>\n",
              "    </tr>\n",
              "    <tr>\n",
              "      <th>45209</th>\n",
              "      <td>0.506494</td>\n",
              "      <td>0</td>\n",
              "      <td>0.078868</td>\n",
              "      <td>0</td>\n",
              "      <td>0</td>\n",
              "      <td>0.533333</td>\n",
              "      <td>0.909091</td>\n",
              "      <td>0.103294</td>\n",
              "      <td>0.048387</td>\n",
              "      <td>0.000000</td>\n",
              "      <td>...</td>\n",
              "      <td>0</td>\n",
              "      <td>0</td>\n",
              "      <td>0</td>\n",
              "      <td>1</td>\n",
              "      <td>0</td>\n",
              "      <td>0</td>\n",
              "      <td>0</td>\n",
              "      <td>0</td>\n",
              "      <td>1</td>\n",
              "      <td>0</td>\n",
              "    </tr>\n",
              "    <tr>\n",
              "      <th>45210</th>\n",
              "      <td>0.246753</td>\n",
              "      <td>0</td>\n",
              "      <td>0.099777</td>\n",
              "      <td>0</td>\n",
              "      <td>0</td>\n",
              "      <td>0.533333</td>\n",
              "      <td>0.909091</td>\n",
              "      <td>0.073404</td>\n",
              "      <td>0.016129</td>\n",
              "      <td>0.216743</td>\n",
              "      <td>...</td>\n",
              "      <td>0</td>\n",
              "      <td>0</td>\n",
              "      <td>1</td>\n",
              "      <td>0</td>\n",
              "      <td>0</td>\n",
              "      <td>0</td>\n",
              "      <td>1</td>\n",
              "      <td>0</td>\n",
              "      <td>0</td>\n",
              "      <td>0</td>\n",
              "    </tr>\n",
              "  </tbody>\n",
              "</table>\n",
              "<p>45211 rows × 38 columns</p>\n",
              "</div>\n",
              "    <div class=\"colab-df-buttons\">\n",
              "\n",
              "  <div class=\"colab-df-container\">\n",
              "    <button class=\"colab-df-convert\" onclick=\"convertToInteractive('df-886a3385-a699-4e31-a809-3c90c436ce28')\"\n",
              "            title=\"Convert this dataframe to an interactive table.\"\n",
              "            style=\"display:none;\">\n",
              "\n",
              "  <svg xmlns=\"http://www.w3.org/2000/svg\" height=\"24px\" viewBox=\"0 -960 960 960\">\n",
              "    <path d=\"M120-120v-720h720v720H120Zm60-500h600v-160H180v160Zm220 220h160v-160H400v160Zm0 220h160v-160H400v160ZM180-400h160v-160H180v160Zm440 0h160v-160H620v160ZM180-180h160v-160H180v160Zm440 0h160v-160H620v160Z\"/>\n",
              "  </svg>\n",
              "    </button>\n",
              "\n",
              "  <style>\n",
              "    .colab-df-container {\n",
              "      display:flex;\n",
              "      gap: 12px;\n",
              "    }\n",
              "\n",
              "    .colab-df-convert {\n",
              "      background-color: #E8F0FE;\n",
              "      border: none;\n",
              "      border-radius: 50%;\n",
              "      cursor: pointer;\n",
              "      display: none;\n",
              "      fill: #1967D2;\n",
              "      height: 32px;\n",
              "      padding: 0 0 0 0;\n",
              "      width: 32px;\n",
              "    }\n",
              "\n",
              "    .colab-df-convert:hover {\n",
              "      background-color: #E2EBFA;\n",
              "      box-shadow: 0px 1px 2px rgba(60, 64, 67, 0.3), 0px 1px 3px 1px rgba(60, 64, 67, 0.15);\n",
              "      fill: #174EA6;\n",
              "    }\n",
              "\n",
              "    .colab-df-buttons div {\n",
              "      margin-bottom: 4px;\n",
              "    }\n",
              "\n",
              "    [theme=dark] .colab-df-convert {\n",
              "      background-color: #3B4455;\n",
              "      fill: #D2E3FC;\n",
              "    }\n",
              "\n",
              "    [theme=dark] .colab-df-convert:hover {\n",
              "      background-color: #434B5C;\n",
              "      box-shadow: 0px 1px 3px 1px rgba(0, 0, 0, 0.15);\n",
              "      filter: drop-shadow(0px 1px 2px rgba(0, 0, 0, 0.3));\n",
              "      fill: #FFFFFF;\n",
              "    }\n",
              "  </style>\n",
              "\n",
              "    <script>\n",
              "      const buttonEl =\n",
              "        document.querySelector('#df-886a3385-a699-4e31-a809-3c90c436ce28 button.colab-df-convert');\n",
              "      buttonEl.style.display =\n",
              "        google.colab.kernel.accessAllowed ? 'block' : 'none';\n",
              "\n",
              "      async function convertToInteractive(key) {\n",
              "        const element = document.querySelector('#df-886a3385-a699-4e31-a809-3c90c436ce28');\n",
              "        const dataTable =\n",
              "          await google.colab.kernel.invokeFunction('convertToInteractive',\n",
              "                                                    [key], {});\n",
              "        if (!dataTable) return;\n",
              "\n",
              "        const docLinkHtml = 'Like what you see? Visit the ' +\n",
              "          '<a target=\"_blank\" href=https://colab.research.google.com/notebooks/data_table.ipynb>data table notebook</a>'\n",
              "          + ' to learn more about interactive tables.';\n",
              "        element.innerHTML = '';\n",
              "        dataTable['output_type'] = 'display_data';\n",
              "        await google.colab.output.renderOutput(dataTable, element);\n",
              "        const docLink = document.createElement('div');\n",
              "        docLink.innerHTML = docLinkHtml;\n",
              "        element.appendChild(docLink);\n",
              "      }\n",
              "    </script>\n",
              "  </div>\n",
              "\n",
              "\n",
              "<div id=\"df-a897c497-761c-4d9d-8d84-718f336d632c\">\n",
              "  <button class=\"colab-df-quickchart\" onclick=\"quickchart('df-a897c497-761c-4d9d-8d84-718f336d632c')\"\n",
              "            title=\"Suggest charts\"\n",
              "            style=\"display:none;\">\n",
              "\n",
              "<svg xmlns=\"http://www.w3.org/2000/svg\" height=\"24px\"viewBox=\"0 0 24 24\"\n",
              "     width=\"24px\">\n",
              "    <g>\n",
              "        <path d=\"M19 3H5c-1.1 0-2 .9-2 2v14c0 1.1.9 2 2 2h14c1.1 0 2-.9 2-2V5c0-1.1-.9-2-2-2zM9 17H7v-7h2v7zm4 0h-2V7h2v10zm4 0h-2v-4h2v4z\"/>\n",
              "    </g>\n",
              "</svg>\n",
              "  </button>\n",
              "\n",
              "<style>\n",
              "  .colab-df-quickchart {\n",
              "      --bg-color: #E8F0FE;\n",
              "      --fill-color: #1967D2;\n",
              "      --hover-bg-color: #E2EBFA;\n",
              "      --hover-fill-color: #174EA6;\n",
              "      --disabled-fill-color: #AAA;\n",
              "      --disabled-bg-color: #DDD;\n",
              "  }\n",
              "\n",
              "  [theme=dark] .colab-df-quickchart {\n",
              "      --bg-color: #3B4455;\n",
              "      --fill-color: #D2E3FC;\n",
              "      --hover-bg-color: #434B5C;\n",
              "      --hover-fill-color: #FFFFFF;\n",
              "      --disabled-bg-color: #3B4455;\n",
              "      --disabled-fill-color: #666;\n",
              "  }\n",
              "\n",
              "  .colab-df-quickchart {\n",
              "    background-color: var(--bg-color);\n",
              "    border: none;\n",
              "    border-radius: 50%;\n",
              "    cursor: pointer;\n",
              "    display: none;\n",
              "    fill: var(--fill-color);\n",
              "    height: 32px;\n",
              "    padding: 0;\n",
              "    width: 32px;\n",
              "  }\n",
              "\n",
              "  .colab-df-quickchart:hover {\n",
              "    background-color: var(--hover-bg-color);\n",
              "    box-shadow: 0 1px 2px rgba(60, 64, 67, 0.3), 0 1px 3px 1px rgba(60, 64, 67, 0.15);\n",
              "    fill: var(--button-hover-fill-color);\n",
              "  }\n",
              "\n",
              "  .colab-df-quickchart-complete:disabled,\n",
              "  .colab-df-quickchart-complete:disabled:hover {\n",
              "    background-color: var(--disabled-bg-color);\n",
              "    fill: var(--disabled-fill-color);\n",
              "    box-shadow: none;\n",
              "  }\n",
              "\n",
              "  .colab-df-spinner {\n",
              "    border: 2px solid var(--fill-color);\n",
              "    border-color: transparent;\n",
              "    border-bottom-color: var(--fill-color);\n",
              "    animation:\n",
              "      spin 1s steps(1) infinite;\n",
              "  }\n",
              "\n",
              "  @keyframes spin {\n",
              "    0% {\n",
              "      border-color: transparent;\n",
              "      border-bottom-color: var(--fill-color);\n",
              "      border-left-color: var(--fill-color);\n",
              "    }\n",
              "    20% {\n",
              "      border-color: transparent;\n",
              "      border-left-color: var(--fill-color);\n",
              "      border-top-color: var(--fill-color);\n",
              "    }\n",
              "    30% {\n",
              "      border-color: transparent;\n",
              "      border-left-color: var(--fill-color);\n",
              "      border-top-color: var(--fill-color);\n",
              "      border-right-color: var(--fill-color);\n",
              "    }\n",
              "    40% {\n",
              "      border-color: transparent;\n",
              "      border-right-color: var(--fill-color);\n",
              "      border-top-color: var(--fill-color);\n",
              "    }\n",
              "    60% {\n",
              "      border-color: transparent;\n",
              "      border-right-color: var(--fill-color);\n",
              "    }\n",
              "    80% {\n",
              "      border-color: transparent;\n",
              "      border-right-color: var(--fill-color);\n",
              "      border-bottom-color: var(--fill-color);\n",
              "    }\n",
              "    90% {\n",
              "      border-color: transparent;\n",
              "      border-bottom-color: var(--fill-color);\n",
              "    }\n",
              "  }\n",
              "</style>\n",
              "\n",
              "  <script>\n",
              "    async function quickchart(key) {\n",
              "      const quickchartButtonEl =\n",
              "        document.querySelector('#' + key + ' button');\n",
              "      quickchartButtonEl.disabled = true;  // To prevent multiple clicks.\n",
              "      quickchartButtonEl.classList.add('colab-df-spinner');\n",
              "      try {\n",
              "        const charts = await google.colab.kernel.invokeFunction(\n",
              "            'suggestCharts', [key], {});\n",
              "      } catch (error) {\n",
              "        console.error('Error during call to suggestCharts:', error);\n",
              "      }\n",
              "      quickchartButtonEl.classList.remove('colab-df-spinner');\n",
              "      quickchartButtonEl.classList.add('colab-df-quickchart-complete');\n",
              "    }\n",
              "    (() => {\n",
              "      let quickchartButtonEl =\n",
              "        document.querySelector('#df-a897c497-761c-4d9d-8d84-718f336d632c button');\n",
              "      quickchartButtonEl.style.display =\n",
              "        google.colab.kernel.accessAllowed ? 'block' : 'none';\n",
              "    })();\n",
              "  </script>\n",
              "</div>\n",
              "    </div>\n",
              "  </div>\n"
            ],
            "application/vnd.google.colaboratory.intrinsic+json": {
              "type": "dataframe",
              "variable_name": "df"
            }
          },
          "metadata": {},
          "execution_count": 5
        }
      ]
    },
    {
      "cell_type": "markdown",
      "source": [
        "### Initialise train and test sets"
      ],
      "metadata": {
        "id": "5b1k9Z1FYCMx"
      }
    },
    {
      "cell_type": "markdown",
      "source": [
        "Prepare the input features x and the target variable y for model training and evaluation:\n",
        "\n",
        "* Input features: It creates a DataFrame x by dropping the column 'y' from the original DataFrame df using the drop function along the specified axis (axis=1). This ensures that the input features contain all columns except the target variable 'y'.\n",
        "* Target variable: It creates a Series y containing only the target variable 'y' from the original DataFrame df. This isolates the target variable for use in model training and evaluation."
      ],
      "metadata": {
        "id": "XRjq76z8RfK0"
      }
    },
    {
      "cell_type": "code",
      "source": [
        "x = df.drop('y', axis = 1)  # Use all features other than 'y' as model inputs\n",
        "y = df['y']  # Use 'y' as model output"
      ],
      "metadata": {
        "id": "16aWGzC_OaL1"
      },
      "execution_count": 6,
      "outputs": []
    },
    {
      "cell_type": "markdown",
      "source": [
        "Split the dataset into training and testing sets using the train_test_split function from the sklearn.model_selection module.\n",
        "\n",
        "The test_size parameter specifies the proportion of the dataset to include in the testing set (20%), while the random_state parameter ensures reproducibility by fixing the random seed used for the random sampling process."
      ],
      "metadata": {
        "id": "yIsC3cDLRjyV"
      }
    },
    {
      "cell_type": "code",
      "source": [
        "x_train, x_test, y_train, y_test = train_test_split(x, y, test_size = 0.2, random_state = 0)"
      ],
      "metadata": {
        "id": "dbNx61AgQtUr"
      },
      "execution_count": 7,
      "outputs": []
    },
    {
      "cell_type": "markdown",
      "source": [
        "### Random Forest"
      ],
      "metadata": {
        "id": "9y-F0uCiP26l"
      }
    },
    {
      "cell_type": "markdown",
      "source": [
        "Performs hyperparameter tuning for the Random Forest (RF) classifier using grid search with cross-validation.\n",
        "* Parameter Grid: It specifies a dictionary param_grid containing the hyperparameters to be tuned. In this case, it focuses on tuning the number of estimators (n_estimators) for the Random Forest classifier, with a range of values [55, 60, 65, 70, 75, 80].\n",
        "* Random Forest Classifier: It initializes a Random Forest classifier (rf) with a random state set to 42.\n",
        "* Grid Search: It sets up a GridSearchCV object (grid_search) to perform grid search with cross-validation. It specifies the estimator (rf), parameter grid (param_grid), 5-fold cross-validation (cv=5), and uses all available CPU cores (n_jobs=-1). The verbose=2 parameter controls the verbosity of the output during the grid search process. The scoring metric used is accuracy (scoring='accuracy').\n",
        "* Fit Grid Search: It fits the grid search to the training data (x_train and y_train) to find the best combination of hyperparameters that maximizes the accuracy score.\n",
        "* Print Results: It prints out the best parameters (grid_search.best_params_) found by the grid search and the corresponding best cross-validated accuracy score (grid_search.best_score_). This provides insights into the optimal hyperparameter values for the Random Forest classifier based on the training data.\n",
        "\n",
        "Note that the range of values [55, 60, 65, 70, 75, 80] was found through an iterative approach of narrowing down the possible values."
      ],
      "metadata": {
        "id": "xl-SPlXgVt42"
      }
    },
    {
      "cell_type": "code",
      "source": [
        "'''\n",
        "param_grid = {\n",
        "    'n_estimators': [55, 60, 65, 70, 75, 80]\n",
        "}\n",
        "rf = RandomForestClassifier(random_state=42)\n",
        "grid_search = GridSearchCV(estimator=rf, param_grid=param_grid, cv=5, n_jobs=-1, verbose=2, scoring='accuracy')\n",
        "grid_search.fit(x_train, y_train)\n",
        "print(f\"Best Parameters: {grid_search.best_params_}\")\n",
        "print(f\"Best Score: {grid_search.best_score_}\")\n",
        "'''"
      ],
      "metadata": {
        "id": "56Bi2cKFVxFt"
      },
      "execution_count": null,
      "outputs": []
    },
    {
      "cell_type": "markdown",
      "source": [
        "Create and train a Random Forest classifier using the RandomForestClassifier class from the sklearn.ensemble module.\n",
        "\n",
        "* n_estimators: Specifies the number of decision trees in the forest. Here, n_estimators is set to 70, which means the Random Forest will consist of 70 decision trees.\n",
        "* random_state: Ensures reproducibility by fixing the random seed used for random number generation during training.\n",
        "\n",
        "The fit method is then called on the Random Forest classifier (RF) with the training input features (x_train) and training target variable (y_train). This trains the Random Forest model on the training data, allowing it to learn patterns and relationships between the input features and the target variable."
      ],
      "metadata": {
        "id": "9hxtb8HPSu0H"
      }
    },
    {
      "cell_type": "code",
      "source": [
        "RF = RandomForestClassifier(n_estimators = 70, random_state = 0)\n",
        "RF.fit(x_train, y_train)"
      ],
      "metadata": {
        "collapsed": true,
        "id": "GmjcLrXVSa2N"
      },
      "execution_count": null,
      "outputs": []
    },
    {
      "cell_type": "markdown",
      "source": [
        "Makes predictions using the trained Random Forest classifier (RF) on both the training and testing datasets.\n",
        "\n",
        "* predict_proba: This method predicts the probabilities of the classes for each sample in the input data. [:, 1] selects the probability of the positive class (class 1, which indicates whether the client will subscribe to a term deposit) for each sample in the testing dataset, storing the result in y_pred_prob_rf.\n",
        "* predict: This method predicts the class labels for each sample in the input data. x_test is used to predict the class labels for the testing dataset, storing the result in y_test_pred_rf. Similarly, x_train is used to predict the class labels for the training dataset, storing the result in y_train_pred_rf.\n",
        "\n",
        "These predictions will be used for evaluating the performance of the Random Forest classifier on both the training and testing datasets."
      ],
      "metadata": {
        "id": "HBIz1tEr2LHQ"
      }
    },
    {
      "cell_type": "code",
      "source": [
        "y_pred_prob_rf = RF.predict_proba(x_test)[:, 1]\n",
        "y_test_pred_rf = RF.predict(x_test)\n",
        "y_train_pred_rf = RF.predict(x_train)"
      ],
      "metadata": {
        "id": "rwdCLjGsS_Ht"
      },
      "execution_count": 10,
      "outputs": []
    },
    {
      "cell_type": "markdown",
      "source": [
        "Compute the accuracy scores and generates a classification report for the Random Forest classifier's performance on both the training and testing datasets.\n",
        "\n",
        "* accuracy_score: This function computes the accuracy of the classifier's predictions by comparing the predicted class labels (y_train_pred_rf and y_test_pred_rf) with the actual class labels (y_train and y_test). The accuracy scores are calculated for both the training and testing datasets.\n",
        "* classification_report: This function generates a text report showing the main classification metrics (precision, recall, F1-score, and support) for each class in the classification problem. The report is based on comparing the predicted class labels (y_test_pred_rf) with the actual class labels (y_test) for the testing dataset.\n",
        "\n",
        "The accuracy scores are rounded to four decimal places (train_accuracy_rf and test_accuracy_rf), and the classification report is stored in the variable classification_report_rf for further analysis and interpretation."
      ],
      "metadata": {
        "id": "fI3AnBZk2W3k"
      }
    },
    {
      "cell_type": "code",
      "source": [
        "train_accuracy_rf = round(accuracy_score(y_train, y_train_pred_rf)*100, 4)\n",
        "test_accuracy_rf = round(accuracy_score(y_test, y_test_pred_rf)*100, 4)\n",
        "classification_report_rf = classification_report(y_test, y_test_pred_rf)"
      ],
      "metadata": {
        "id": "qHb-FU3_YKML"
      },
      "execution_count": 11,
      "outputs": []
    },
    {
      "cell_type": "markdown",
      "source": [
        "### Neural Network"
      ],
      "metadata": {
        "id": "CFODEXi6nMjO"
      }
    },
    {
      "cell_type": "markdown",
      "source": [
        "Define and train a neural network (NN) model using the Keras API provided by TensorFlow.\n",
        "\n",
        "* Model Architecture: The neural network model is defined as a sequential stack of layers. It consists of four dense layers:\n",
        "  * The first layer (Dense) has 64 units with ReLU activation function and input shape matching the number of features in the training data (x_train.shape[1]).\n",
        "  * The second layer has 32 units with ReLU activation.\n",
        "  * The third layer has 16 units with ReLU activation.\n",
        "  * The final layer has 1 unit with a sigmoid activation function, which is suitable for binary classification tasks.\n",
        "* Compilation: The model is compiled with the Adam optimizer, binary cross-entropy loss function (suitable for binary classification), and accuracy as the evaluation metric.\n",
        "* Training: The model is trained using the fit method. It is trained on the training data (x_train and y_train) for 10 epochs with a batch size of 32. Additionally, a validation split of 20% (validation_split=0.2) is used to monitor the model's performance on a validation set during training."
      ],
      "metadata": {
        "id": "45eYgRdH2tRu"
      }
    },
    {
      "cell_type": "code",
      "source": [
        "NN = Sequential([\n",
        "    Dense(64, activation='relu', input_shape=(x_train.shape[1],)),\n",
        "    Dense(32, activation='relu'),\n",
        "    Dense(16, activation='relu'),\n",
        "    Dense(1, activation='sigmoid')\n",
        "])\n",
        "\n",
        "NN.compile(optimizer='adam', loss = 'binary_crossentropy', metrics = ['accuracy'])\n",
        "NN.fit(x_train, y_train, epochs=10, batch_size=32, validation_split=0.2)"
      ],
      "metadata": {
        "id": "VhFyL9t0PpLP"
      },
      "execution_count": null,
      "outputs": []
    },
    {
      "cell_type": "markdown",
      "source": [
        "Make predictions using the trained neural network model (NN) on both the training and testing datasets.\n",
        "\n",
        "* Predictions: The predict method is used to predict the probabilities of the positive class (class 1, indicating whether the client will subscribe to a term deposit) for each sample in the input data (x_test and x_train). The resulting probabilities are stored in y_test_pred_prob_nn and y_train_pred_prob_nn, respectively.\n",
        "* Thresholding: The predicted probabilities are thresholded at 0.5 to obtain the binary class labels. If the predicted probability is greater than or equal to 0.5, the corresponding class label is set to 1 (indicating subscription to a term deposit); otherwise, it is set to 0 (indicating no subscription). This is achieved using the NumPy astype function. The resulting binary class labels are stored in y_test_pred_nn and y_train_pred_nn, respectively."
      ],
      "metadata": {
        "id": "gmhbcnDE3DQ2"
      }
    },
    {
      "cell_type": "code",
      "source": [
        "y_test_pred_prob_nn = NN.predict(x_test)\n",
        "y_test_pred_nn = (y_test_pred_prob_nn >= 0.5).astype(int)\n",
        "\n",
        "y_train_pred_prob_nn = NN.predict(x_train)\n",
        "y_train_pred_nn = (y_train_pred_prob_nn >= 0.5).astype(int)"
      ],
      "metadata": {
        "collapsed": true,
        "id": "0aPPYQkYnS9c"
      },
      "execution_count": null,
      "outputs": []
    },
    {
      "cell_type": "markdown",
      "source": [
        "Compute the accuracy scores and generates a classification report for the neural network model's performance on both the training and testing datasets.\n",
        "\n",
        "* Accuracy Score: The accuracy_score function calculates the accuracy of the model's predictions by comparing the predicted class labels (y_train_pred_nn and y_test_pred_nn) with the actual class labels (y_train and y_test). The resulting accuracy scores are rounded to four decimal places and stored in train_accuracy_nn and test_accuracy_nn for the training and testing datasets, respectively.\n",
        "* Classification Report: The classification_report function generates a text report showing the main classification metrics (precision, recall, F1-score, and support) for each class in the classification problem. The report is based on comparing the predicted class labels (y_test_pred_nn) with the actual class labels (y_test) for the testing dataset. The generated classification report is stored in the variable classification_report_nn for further analysis and interpretation."
      ],
      "metadata": {
        "id": "WqIJFMS83NnB"
      }
    },
    {
      "cell_type": "code",
      "source": [
        "train_accuracy_nn = round(accuracy_score(y_train, y_train_pred_nn)*100, 4)\n",
        "test_accuracy_nn = round(accuracy_score(y_test, y_test_pred_nn)*100, 4)\n",
        "classification_report_nn = classification_report(y_test, y_test_pred_nn)"
      ],
      "metadata": {
        "id": "8ffZkCstennj"
      },
      "execution_count": 14,
      "outputs": []
    },
    {
      "cell_type": "markdown",
      "source": [
        "### Compare models"
      ],
      "metadata": {
        "id": "zVbJlvK9Vyvs"
      }
    },
    {
      "cell_type": "markdown",
      "source": [
        "Print out the training and testing accuracies of both the Random Forest (RF) classifier and the neural network (NN) model.\n",
        "\n",
        "* Training Accuracy: It prints the training accuracy of both models, indicating the percentage of correctly classified samples in the training dataset.\n",
        "* Testing Accuracy: It prints the testing accuracy of both models, indicating the percentage of correctly classified samples in the testing dataset.\n",
        "\n",
        "By comparing the training and testing accuracies of both models, we can assess their performance and evaluate if there is any overfitting or underfitting occurring."
      ],
      "metadata": {
        "id": "18fG3spW3XPJ"
      }
    },
    {
      "cell_type": "code",
      "source": [
        "print(f\"RF training accuracy: {train_accuracy_rf}%\")\n",
        "print(f\"RF testing accuracy: {test_accuracy_rf}%\")\n",
        "print()\n",
        "print(f\"NN training accuracy: {train_accuracy_nn}%\")\n",
        "print(f\"NN testing accuracy: {test_accuracy_nn}%\")"
      ],
      "metadata": {
        "colab": {
          "base_uri": "https://localhost:8080/"
        },
        "id": "VPFVmZDVV1ZP",
        "outputId": "63bd2410-5b3a-4fc0-c598-f4e48be86969"
      },
      "execution_count": 15,
      "outputs": [
        {
          "output_type": "stream",
          "name": "stdout",
          "text": [
            "RF training accuracy: 99.9972%\n",
            "RF testing accuracy: 90.2798%\n",
            "\n",
            "NN training accuracy: 90.5773%\n",
            "NN testing accuracy: 89.6052%\n"
          ]
        }
      ]
    },
    {
      "cell_type": "markdown",
      "source": [
        "Print the classification reports for both the Random Forest (RF) classifier and the neural network (NN) model.\n",
        "\n",
        "* RF Classification Report: It prints the classification report for the RF classifier, which includes metrics such as precision, recall, F1-score, and support for each class (positive and negative).\n",
        "* NN Classification Report: It prints the classification report for the NN model, which provides similar metrics as the RF classification report but is based on the predictions of the neural network.\n",
        "\n",
        "By examining these classification reports, we can gain insights into the performance of each model, including their ability to correctly classify instances of each class and any potential differences in performance between the two models."
      ],
      "metadata": {
        "id": "IZdLn_D43ti7"
      }
    },
    {
      "cell_type": "code",
      "source": [
        "print('RF classification report:')\n",
        "print(classification_report_rf)\n",
        "print()\n",
        "print('NN classification report:')\n",
        "print(classification_report_nn)"
      ],
      "metadata": {
        "colab": {
          "base_uri": "https://localhost:8080/"
        },
        "id": "1ZJecMC6xaAx",
        "outputId": "fbf0bf42-b5cf-4c77-de05-06a294cbe222"
      },
      "execution_count": 16,
      "outputs": [
        {
          "output_type": "stream",
          "name": "stdout",
          "text": [
            "RF classification report:\n",
            "              precision    recall  f1-score   support\n",
            "\n",
            "           0       0.92      0.97      0.95      7980\n",
            "           1       0.64      0.39      0.49      1063\n",
            "\n",
            "    accuracy                           0.90      9043\n",
            "   macro avg       0.78      0.68      0.72      9043\n",
            "weighted avg       0.89      0.90      0.89      9043\n",
            "\n",
            "\n",
            "NN classification report:\n",
            "              precision    recall  f1-score   support\n",
            "\n",
            "           0       0.92      0.97      0.94      7980\n",
            "           1       0.60      0.34      0.44      1063\n",
            "\n",
            "    accuracy                           0.90      9043\n",
            "   macro avg       0.76      0.66      0.69      9043\n",
            "weighted avg       0.88      0.90      0.88      9043\n",
            "\n"
          ]
        }
      ]
    },
    {
      "cell_type": "markdown",
      "source": [
        "Create a confusion matrix plot for the Random Forest (RF) classifier's predictions on the testing dataset.\n",
        "\n",
        "* Confusion Matrix Display: It creates a ConfusionMatrixDisplay object using the confusion matrix computed from the actual class labels (y_test) and the predicted class labels (y_test_pred_rf) for the RF classifier's predictions.\n",
        "* Plotting: It plots the confusion matrix using the plot method of the ConfusionMatrixDisplay object.\n",
        "* Title: It sets the title of the plot to 'RF Confusion Matrix'.\n",
        "* Show Plot: It displays the confusion matrix plot using plt.show(). The confusion matrix provides a visual representation of the model's performance by showing the true positive, false positive, true negative, and false negative predictions."
      ],
      "metadata": {
        "id": "5DAcf-6537Vk"
      }
    },
    {
      "cell_type": "code",
      "source": [
        "disp_rf = ConfusionMatrixDisplay(confusion_matrix(y_test, y_test_pred_rf))\n",
        "disp_rf.plot()\n",
        "plt.title('RF Confusion Matrix')\n",
        "plt.show()"
      ],
      "metadata": {
        "colab": {
          "base_uri": "https://localhost:8080/",
          "height": 472
        },
        "id": "TMh_6sqOUvwy",
        "outputId": "610b8861-6aeb-48c9-b01c-629248be45b1"
      },
      "execution_count": 17,
      "outputs": [
        {
          "output_type": "display_data",
          "data": {
            "text/plain": [
              "<Figure size 640x480 with 2 Axes>"
            ],
            "image/png": "[encoded data removed]"
          },
          "metadata": {}
        }
      ]
    },
    {
      "cell_type": "markdown",
      "source": [
        "Create a confusion matrix plot for the neural network (NN) model's predictions on the testing dataset.\n",
        "\n",
        "* Confusion Matrix Display: It creates a ConfusionMatrixDisplay object using the confusion matrix computed from the actual class labels (y_test) and the predicted class labels (y_test_pred_nn) for the NN model's predictions.\n",
        "* Plotting: It plots the confusion matrix using the plot method of the ConfusionMatrixDisplay object.\n",
        "* Title: It sets the title of the plot to 'NN Confusion Matrix'.\n",
        "* Show Plot: It displays the confusion matrix plot using plt.show(). The confusion matrix provides a visual representation of the model's performance by showing the true positive, false positive, true negative, and false negative predictions."
      ],
      "metadata": {
        "id": "_Cs8xsij4HKX"
      }
    },
    {
      "cell_type": "code",
      "source": [
        "disp_nn = ConfusionMatrixDisplay(confusion_matrix(y_test, y_test_pred_nn))\n",
        "disp_nn.plot()\n",
        "plt.title('NN Confusion Matrix')\n",
        "plt.show()"
      ],
      "metadata": {
        "colab": {
          "base_uri": "https://localhost:8080/",
          "height": 472
        },
        "id": "B9nc_GnfWcz1",
        "outputId": "0e2e1be0-d806-4a51-ab27-668c2570bc5a"
      },
      "execution_count": 18,
      "outputs": [
        {
          "output_type": "display_data",
          "data": {
            "text/plain": [
              "<Figure size 640x480 with 2 Axes>"
            ],
            "image/png": "[encoded data removed]"
          },
          "metadata": {}
        }
      ]
    },
    {
      "cell_type": "markdown",
      "source": [
        "# Final results, interpretability, and main drivers"
      ],
      "metadata": {
        "id": "VRSl2tjI7Nf3"
      }
    },
    {
      "cell_type": "markdown",
      "source": [
        "Comparing the classification reports of the Random Forest (RF) classifier and the neural network (NN) model reveals differences in their predictive performance, particularly in terms of precision, recall, and F1-score for the positive class (class 1, indicating clients who subscribed to a term deposit).\n",
        "\n",
        "* Random Forest (RF):\n",
        "  * Precision for class 1: 0.64\n",
        "  * Recall for class 1: 0.39\n",
        "  * F1-score for class 1: 0.49\n",
        "\n",
        "* Neural Network (NN):\n",
        "  * Precision for class 1: 0.60\n",
        "  * Recall for class 1: 0.34\n",
        "  * F1-score for class 1: 0.44\n",
        "  \n",
        "While both algorithms achieve similar accuracy scores (90%) on the testing dataset, they exhibit differences in their ability to correctly classify positive instances (clients who subscribed to a term deposit). The RF classifier generally outperforms the NN model in terms of precision, recall, and F1-score for class 1, indicating that the RF classifier is better at identifying true positive cases (clients who actually subscribed to a term deposit) while minimizing false positives.\n",
        "\n",
        "Regarding interpretability, the main drivers of decisions in both algorithms can be different due to their inherent differences in modeling techniques. Random Forest, being an ensemble of decision trees, can provide insights into feature importance based on how frequently features are used for splitting in the trees. On the other hand, neural networks, especially deeper architectures, are often considered as black-box models, where the relationships between input features and output predictions are complex and difficult to interpret directly. While techniques such as feature importance analysis or visualization of activation patterns in neural networks exist, they may not offer the same level of interpretability as feature importance in Random Forest models. Therefore, while the RF classifier may provide more transparent insights into the main drivers of its decisions, the NN model's decisions might be less interpretable and may require additional techniques for interpretation."
      ],
      "metadata": {
        "id": "BIyHbB6Q4WT3"
      }
    }
  ]
}